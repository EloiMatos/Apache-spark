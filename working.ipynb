{
 "cells": [
  {
   "cell_type": "code",
   "execution_count": null,
   "metadata": {},
   "outputs": [],
   "source": [
    "import os\n",
    "import shutil\n",
    "\n",
    "import dowload_files as dwf\n",
    "import extract_files as ef\n",
    "import upload_composin as usin\n",
    "\n",
    "\n",
    "def ATUSINAPI(yearmonth):\n",
    "\n",
    "    states = [\n",
    "        'PR','RS','SC'\n",
    "    ]\n",
    "\n",
    "    names = dwf.dowload_files(yearmonth, states)\n",
    "    files = ef.filter_files(names, yearmonth, states)\n",
    "    \n",
    "    usin.upload(files.composin, yearmonth)\n",
    "\n",
    "    print(f'SINAPI UPDATE DONE FOR {yearmonth}')\n",
    "\n",
    "\n",
    "ATUSINAPI('202311')"
   ]
  }
 ],
 "metadata": {
  "kernelspec": {
   "display_name": "Python 3",
   "language": "python",
   "name": "python3"
  },
  "language_info": {
   "codemirror_mode": {
    "name": "ipython",
    "version": 3
   },
   "file_extension": ".py",
   "mimetype": "text/x-python",
   "name": "python",
   "nbconvert_exporter": "python",
   "pygments_lexer": "ipython3",
   "version": "3.9.13"
  }
 },
 "nbformat": 4,
 "nbformat_minor": 2
}
