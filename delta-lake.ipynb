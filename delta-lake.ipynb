{
 "cells": [
  {
   "cell_type": "code",
   "execution_count": null,
   "metadata": {},
   "outputs": [],
   "source": [
    "import pyspark\n",
    "from delta import *\n",
    "\n",
    "# Configuração do SparkSession com Delta Lake\n",
    "builder = pyspark.sql.SparkSession.builder.appName(\"MyApp\") \\\n",
    "    .config(\"spark.sql.extensions\", \"io.delta.sql.DeltaSparkSessionExtension\") \\\n",
    "    .config(\"spark.sql.catalog.spark_catalog\", \"org.apache.spark.sql.delta.catalog.DeltaCatalog\")\n",
    "\n",
    "# Criando a sessão do Spark\n",
    "spark = configure_spark_with_delta_pip(builder).getOrCreate()"
   ]
  },
  {
   "cell_type": "code",
   "execution_count": null,
   "metadata": {},
   "outputs": [],
   "source": [
    "#Criar tabela Composin\n",
    "df = spark.read.csv(\"composin_RS_202311.csv\")\n",
    "df.write.format(\"delta\").save(\"/home/jovyan/composin\")\n",
    "\n",
    "#Ler o tamanho do dataframe\n",
    "num_linhas1 = df.count()\n",
    "print(num_linhas1)\n",
    "\n",
    "#Fazer o insert em uma tabela existente\n",
    "df = spark.read.csv(\"composin_SC_202311.csv\")\n",
    "df.write.format(\"delta\").mode(\"append\").save(\"/home/jovyan/composin\")\n",
    "\n",
    "df = spark.read.csv(\"composin_PR_202311.csv\")\n",
    "df.write.format(\"delta\").mode(\"append\").save(\"/home/jovyan/composin\")\n",
    "\n",
    "\n",
    "#Ler os arquivos do dataframe\n",
    "df = spark.read.format(\"delta\").load(\"/home/jovyan/composin\")\n",
    "df.show()\n",
    "\n",
    "#Ler o tamanho do dataframe\n",
    "num_linhas2 = df.count()\n",
    "print(num_linhas2)\n",
    "\n",
    "#Carregar a tabela Delta como um DeltaTable\n",
    "delta_table = DeltaTable.forPath(spark, caminho_tabela_delta)\n",
    "\n",
    "#Excluir a tabela Delta\n",
    "delta_table.drop()\n",
    "\n",
    "#Executar um comando SQL em uma tabela Delta especificando o caminho\n",
    "resultado = spark.sql(\"SELECT * FROM delta./home/jovyan/algo where preco >= 10000\")\n",
    "\n",
    "#Mostrar o resultado\n",
    "resultado.show()"
   ]
  }
 ],
 "metadata": {
  "language_info": {
   "name": "python"
  }
 },
 "nbformat": 4,
 "nbformat_minor": 2
}
